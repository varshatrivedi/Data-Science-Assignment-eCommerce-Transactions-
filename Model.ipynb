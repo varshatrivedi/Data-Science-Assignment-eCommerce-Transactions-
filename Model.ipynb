{
 "cells": [
  {
   "cell_type": "code",
   "execution_count": 1,
   "id": "257e6226",
   "metadata": {},
   "outputs": [],
   "source": [
    "import pandas as pd\n",
    "import matplotlib.pyplot as plt\n",
    "import seaborn as sns"
   ]
  },
  {
   "cell_type": "markdown",
   "id": "a51dd4be",
   "metadata": {},
   "source": [
    "# Load datasets"
   ]
  },
  {
   "cell_type": "code",
   "execution_count": 2,
   "id": "4449aa80",
   "metadata": {},
   "outputs": [],
   "source": [
    "customers = pd.read_csv('/Users/varsharani/Downloads/Customers.csv')\n",
    "products = pd.read_csv('/Users/varsharani/Downloads/Products.csv')\n",
    "transactions = pd.read_csv('/Users/varsharani/Downloads/Transactions.csv')"
   ]
  },
  {
   "cell_type": "markdown",
   "id": "2ba36a60",
   "metadata": {},
   "source": [
    "# Checking missing Value and drop duplicate"
   ]
  },
  {
   "cell_type": "code",
   "execution_count": 3,
   "id": "7e3b2990",
   "metadata": {},
   "outputs": [
    {
     "name": "stdout",
     "output_type": "stream",
     "text": [
      "CustomerID      0\n",
      "CustomerName    0\n",
      "Region          0\n",
      "SignupDate      0\n",
      "dtype: int64\n",
      "ProductID      0\n",
      "ProductName    0\n",
      "Category       0\n",
      "Price          0\n",
      "dtype: int64\n",
      "TransactionID      0\n",
      "CustomerID         0\n",
      "ProductID          0\n",
      "TransactionDate    0\n",
      "Quantity           0\n",
      "TotalValue         0\n",
      "Price              0\n",
      "dtype: int64\n"
     ]
    }
   ],
   "source": [
    "#missing values\n",
    "print(customers.isnull().sum())\n",
    "print(products.isnull().sum())\n",
    "print(transactions.isnull().sum())\n",
    "\n",
    "# Drop duplicates\n",
    "customers.drop_duplicates(inplace=True)\n",
    "products.drop_duplicates(inplace=True)\n",
    "transactions.drop_duplicates(inplace=True)"
   ]
  },
  {
   "cell_type": "code",
   "execution_count": 4,
   "id": "838ce660",
   "metadata": {},
   "outputs": [],
   "source": [
    "# Convert dates to datetime\n",
    "customers['SignupDate'] = pd.to_datetime(customers['SignupDate'])\n",
    "transactions['TransactionDate'] = pd.to_datetime(transactions['TransactionDate'])"
   ]
  },
  {
   "cell_type": "code",
   "execution_count": 5,
   "id": "2cb87561",
   "metadata": {},
   "outputs": [
    {
     "name": "stdout",
     "output_type": "stream",
     "text": [
      "    TransactionID CustomerID ProductID     TransactionDate  Quantity  \\\n",
      "0          T00001      C0199      P067 2024-08-25 12:38:23         1   \n",
      "1          T00112      C0146      P067 2024-05-27 22:23:54         1   \n",
      "2          T00166      C0127      P067 2024-04-25 07:38:55         1   \n",
      "3          T00272      C0087      P067 2024-03-26 22:55:37         2   \n",
      "4          T00363      C0070      P067 2024-03-21 15:10:10         3   \n",
      "..            ...        ...       ...                 ...       ...   \n",
      "995        T00496      C0118      P037 2024-10-24 08:30:27         1   \n",
      "996        T00759      C0059      P037 2024-06-04 02:15:24         3   \n",
      "997        T00922      C0018      P037 2024-04-05 13:05:32         4   \n",
      "998        T00959      C0115      P037 2024-09-29 10:16:02         2   \n",
      "999        T00992      C0024      P037 2024-04-21 10:52:24         1   \n",
      "\n",
      "     TotalValue  Price_x          CustomerName         Region SignupDate  \\\n",
      "0        300.68   300.68        Andrea Jenkins         Europe 2022-12-03   \n",
      "1        300.68   300.68       Brittany Harvey           Asia 2024-09-04   \n",
      "2        300.68   300.68       Kathryn Stevens         Europe 2024-04-04   \n",
      "3        601.36   300.68       Travis Campbell  South America 2024-04-11   \n",
      "4        902.04   300.68         Timothy Perez         Europe 2022-03-15   \n",
      "..          ...      ...                   ...            ...        ...   \n",
      "995      459.86   459.86            Jacob Holt  South America 2022-01-22   \n",
      "996     1379.58   459.86  Mrs. Kimberly Wright  North America 2024-04-07   \n",
      "997     1839.44   459.86          Tyler Haynes  North America 2024-09-21   \n",
      "998      919.72   459.86       Joshua Hamilton           Asia 2024-11-11   \n",
      "999      459.86   459.86        Michele Cooley  North America 2024-02-05   \n",
      "\n",
      "                         ProductName     Category  Price_y  \n",
      "0    ComfortLiving Bluetooth Speaker  Electronics   300.68  \n",
      "1    ComfortLiving Bluetooth Speaker  Electronics   300.68  \n",
      "2    ComfortLiving Bluetooth Speaker  Electronics   300.68  \n",
      "3    ComfortLiving Bluetooth Speaker  Electronics   300.68  \n",
      "4    ComfortLiving Bluetooth Speaker  Electronics   300.68  \n",
      "..                               ...          ...      ...  \n",
      "995             SoundWave Smartwatch  Electronics   459.86  \n",
      "996             SoundWave Smartwatch  Electronics   459.86  \n",
      "997             SoundWave Smartwatch  Electronics   459.86  \n",
      "998             SoundWave Smartwatch  Electronics   459.86  \n",
      "999             SoundWave Smartwatch  Electronics   459.86  \n",
      "\n",
      "[1000 rows x 13 columns]\n"
     ]
    }
   ],
   "source": [
    "# Merge datasets\n",
    "data = transactions.merge(customers, on='CustomerID',  how='left')\n",
    "data = data.merge(products, on='ProductID',  how='left')\n",
    "\n",
    "print(data)"
   ]
  },
  {
   "cell_type": "code",
   "execution_count": 6,
   "id": "08810b09",
   "metadata": {},
   "outputs": [
    {
     "name": "stdout",
     "output_type": "stream",
     "text": [
      "Index(['ProductID', 'ProductName', 'Category', 'Price'], dtype='object')\n"
     ]
    }
   ],
   "source": [
    "print(products.columns)"
   ]
  },
  {
   "cell_type": "code",
   "execution_count": 7,
   "id": "18b866fc",
   "metadata": {},
   "outputs": [],
   "source": [
    "# Checking for outliers"
   ]
  },
  {
   "cell_type": "code",
   "execution_count": 8,
   "id": "3e30b241",
   "metadata": {},
   "outputs": [
    {
     "data": {
      "image/png": "[encoded data removed]",
      "text/plain": [
       "<Figure size 432x288 with 1 Axes>"
      ]
     },
     "metadata": {
      "needs_background": "light"
     },
     "output_type": "display_data"
    }
   ],
   "source": [
    "# Boxplot for 'TotalValue' column in transactions\n",
    "sns.boxplot(data=data, x=data['TotalValue'], color='skyblue')\n",
    "plt.title('Boxplot of TotalValue')\n",
    "plt.xlabel('TotalValue')\n",
    "plt.show()\n"
   ]
  },
  {
   "cell_type": "code",
   "execution_count": 9,
   "id": "fab5c526",
   "metadata": {},
   "outputs": [
    {
     "data": {
      "image/png": "[encoded data removed]",
      "text/plain": [
       "<Figure size 432x288 with 1 Axes>"
      ]
     },
     "metadata": {
      "needs_background": "light"
     },
     "output_type": "display_data"
    }
   ],
   "source": [
    "# Histogram for 'Quantity'\n",
    "data['Quantity'].hist(bins=30, color='green', alpha=0.7)\n",
    "plt.title('Distribution of Quantity')\n",
    "plt.xlabel('Quantity')\n",
    "plt.ylabel('Frequency')\n",
    "plt.show()"
   ]
  },
  {
   "cell_type": "code",
   "execution_count": 10,
   "id": "b792a1ab",
   "metadata": {},
   "outputs": [
    {
     "name": "stdout",
     "output_type": "stream",
     "text": [
      "    CustomerID  TotalValue  Quantity     Price_x  Region_Europe  \\\n",
      "0        C0001     3354.52        12  278.334000              0   \n",
      "1        C0002     1862.74        10  208.920000              0   \n",
      "2        C0003     2725.38        14  195.707500              0   \n",
      "3        C0004     5354.88        23  240.636250              0   \n",
      "4        C0005     2034.24         7  291.603333              0   \n",
      "..         ...         ...       ...         ...            ...   \n",
      "194      C0196     4982.88        12  416.992500              1   \n",
      "195      C0197     1928.65         9  227.056667              1   \n",
      "196      C0198      931.83         3  239.705000              1   \n",
      "197      C0199     1979.28         9  250.610000              1   \n",
      "198      C0200     4758.60        16  296.506000              0   \n",
      "\n",
      "     Region_North America  Region_South America  \n",
      "0                       0                     1  \n",
      "1                       0                     0  \n",
      "2                       0                     1  \n",
      "3                       0                     1  \n",
      "4                       0                     0  \n",
      "..                    ...                   ...  \n",
      "194                     0                     0  \n",
      "195                     0                     0  \n",
      "196                     0                     0  \n",
      "197                     0                     0  \n",
      "198                     0                     0  \n",
      "\n",
      "[199 rows x 7 columns]\n"
     ]
    }
   ],
   "source": [
    "# Aggregate transaction data (e.g., total spend per customer)\n",
    "data_agg = data.groupby('CustomerID').agg({\n",
    "    'TotalValue': 'sum',  # Total spend\n",
    "    'Quantity': 'sum',    # Total quantity purchased\n",
    "    'Price_x': 'mean',      # Average price of purchased products\n",
    "    'Region': 'first',    # Region of customer\n",
    "}).reset_index()\n",
    "\n",
    "# Encode categorical variables\n",
    "data_agg = pd.get_dummies(data_agg, columns=['Region'], drop_first=True)\n",
    "\n",
    "print(data_agg)"
   ]
  },
  {
   "cell_type": "markdown",
   "id": "389296e2",
   "metadata": {},
   "source": [
    "# normalising features"
   ]
  },
  {
   "cell_type": "code",
   "execution_count": 11,
   "id": "ef5e8e53",
   "metadata": {},
   "outputs": [],
   "source": [
    "from sklearn.preprocessing import MinMaxScaler\n",
    "\n",
    "scaler = MinMaxScaler()\n",
    "numeric_cols = ['TotalValue', 'Quantity', 'Price_x']\n",
    "data_agg[numeric_cols] = scaler.fit_transform(data_agg[numeric_cols])"
   ]
  },
  {
   "cell_type": "markdown",
   "id": "b64a23b7",
   "metadata": {},
   "source": [
    "# Train KNN Model"
   ]
  },
  {
   "cell_type": "code",
   "execution_count": 12,
   "id": "b1ac9034",
   "metadata": {},
   "outputs": [
    {
     "data": {
      "text/plain": [
       "NearestNeighbors(metric='manhattan', n_neighbors=4)"
      ]
     },
     "execution_count": 12,
     "metadata": {},
     "output_type": "execute_result"
    }
   ],
   "source": [
    "from sklearn.neighbors import NearestNeighbors\n",
    "\n",
    "# Features to use in KNN\n",
    "CustomerID = data_agg.drop(['CustomerID'], axis=1)\n",
    "\n",
    "# Train the KNN model\n",
    "knn = NearestNeighbors(n_neighbors=4, metric='manhattan')  # 4 includes the user itself\n",
    "knn.fit(CustomerID)"
   ]
  },
  {
   "cell_type": "code",
   "execution_count": 15,
   "id": "7003e99b",
   "metadata": {},
   "outputs": [],
   "source": [
    "def get_top_3_lookalikes(customer_id):\n",
    "    # Find the customer's index in the aggregated data\n",
    "    customer_index = data_agg[data_agg['CustomerID'] == customer_id].index\n",
    "    if len(customer_index) == 0:\n",
    "        print(f\"CustomerID {customer_id} not found in the data.\")\n",
    "        return pd.DataFrame()  # Return an empty DataFrame if the customer isn't found\n",
    "    \n",
    "    customer_index = customer_index[0]\n",
    "    \n",
    "    # Get the feature names and ensure proper format for kneighbors\n",
    "    input_features = CustomerID.iloc[[customer_index]]  # Use double brackets to keep the DataFrame structure\n",
    "    distances, indices = knn.kneighbors(input_features)\n",
    "\n",
    "    # Extract similar customers (excluding the input customer itself)\n",
    "    similar_indices = indices[0][1:]  # Skip the first one, which is the customer itself\n",
    "    similar_distances = distances[0][1:]\n",
    "    similar_customers = data_agg.iloc[similar_indices].copy()  # Use `.copy()` to avoid SettingWithCopyWarning\n",
    "    similar_customers.loc[:, 'SimilarityScore'] = 1 / (1 + similar_distances)  # Inverse of distance as score\n",
    "\n",
    "    # Return top 3 customers and similarity scores\n",
    "    top_3 = similar_customers[['CustomerID', 'SimilarityScore']].head(3)\n",
    "    return top_3"
   ]
  },
  {
   "cell_type": "code",
   "execution_count": 16,
   "id": "2f7a063b",
   "metadata": {},
   "outputs": [
    {
     "name": "stdout",
     "output_type": "stream",
     "text": [
      "  CustomerID                                         Lookalikes\n",
      "0      C0001  [[C0137, 0.9461670913643142], [C0191, 0.928898...\n",
      "1      C0002  [[C0088, 0.9302941660002525], [C0142, 0.906780...\n",
      "2      C0003  [[C0190, 0.9273430178198157], [C0147, 0.909024...\n",
      "3      C0004  [[C0113, 0.8873011894892588], [C0012, 0.828661...\n",
      "4      C0005  [[C0186, 0.9217917724313268], [C0140, 0.919887...\n"
     ]
    }
   ],
   "source": [
    "lookalike_map = {}\n",
    "\n",
    "# For each of the first 20 customers (C0001 to C0020), get the top 3 lookalikes\n",
    "for i in range(1, 21):\n",
    "    customer_id = f'C{i:04d}'  # C0001, C0002, ..., C0020\n",
    "    top_3 = get_top_3_lookalikes(customer_id)\n",
    "    \n",
    "    # Check if top_3 is not empty before storing the results\n",
    "    if not top_3.empty:\n",
    "        # Store the results in the dictionary (Map<cust_id, List<cust_id, score>>)\n",
    "        lookalike_map[customer_id] = top_3.values.tolist()\n",
    "\n",
    "# Convert the dictionary to a DataFrame for saving to CSV\n",
    "lookalike_df = pd.DataFrame([\n",
    "    {'CustomerID': key, 'Lookalikes': value} \n",
    "    for key, value in lookalike_map.items()\n",
    "])\n",
    "\n",
    "# Save the lookalike data to Lookalike.csv\n",
    "lookalike_df.to_csv('Lookalike.csv', index=False)\n",
    "\n",
    "# Optionally, print out the first few records to verify\n",
    "print(lookalike_df.head())"
   ]
  },
  {
   "cell_type": "code",
   "execution_count": null,
   "id": "2cd09972",
   "metadata": {},
   "outputs": [],
   "source": []
  }
 ],
 "metadata": {
  "kernelspec": {
   "display_name": "Python 3 (ipykernel)",
   "language": "python",
   "name": "python3"
  },
  "language_info": {
   "codemirror_mode": {
    "name": "ipython",
    "version": 3
   },
   "file_extension": ".py",
   "mimetype": "text/x-python",
   "name": "python",
   "nbconvert_exporter": "python",
   "pygments_lexer": "ipython3",
   "version": "3.9.12"
  }
 },
 "nbformat": 4,
 "nbformat_minor": 5
}
